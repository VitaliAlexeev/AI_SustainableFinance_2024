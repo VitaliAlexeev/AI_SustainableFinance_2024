{
 "cells": [
  {
   "cell_type": "markdown",
   "id": "b6547bf0-24f5-4514-be5b-5b9f1f03802f",
   "metadata": {},
   "source": [
    "# Advanced NLP Techniques with Transformers for ESG Tasks\n",
    "\n",
    "### **Goal**:\n",
    "Explore and review the application of advanced Natural Language Processing (NLP) techniques in Environmental, Social, and Governance (ESG) domains using pre-trained models from the Hugging Face `transformers` library. These techniques can be employed to automate and enhance ESG-related tasks such as text classification, sentiment analysis, and summarization.\n",
    "\n",
    "### **Introduction**:\n",
    "The increasing demand for transparency and accountability in ESG practices has driven the need for advanced tools to analyze large volumes of ESG-related data. NLP models, especially those built on transformers, provide the ability to process and understand the complex narratives found in sustainability reports, regulatory filings, corporate disclosures, and news articles.\n",
    "\n",
    "In this review, we will explore how transformer-based models can be adapted for ESG tasks, leveraging pre-trained models available in the Hugging Face library. These models help automate the analysis of textual data related to environmental policies, social impact, and corporate governance, offering insights that are critical for investors, regulatory bodies, and companies aiming to improve their sustainability practices.\n",
    "\n",
    "### **Content**:\n",
    "\n",
    "1. **Overview of ESG-Specific Models on Hugging Face**:\n",
    "   Hugging Face offers a variety of transformer models that can be fine-tuned for ESG-specific tasks. Some models have been pre-trained on ESG data to enable faster deployment for real-world use cases. These models can handle tasks such as classifying ESG-related documents, analyzing sentiments around sustainability topics, and summarizing lengthy reports on environmental and social initiatives.\n",
    "\n",
    "   - **ESG BERT**: A BERT-based model fine-tuned on ESG-related datasets to classify documents based on their environmental, social, and governance content.\n",
    "   - **RoBERTa for ESG Sentiment Analysis**: A RoBERTa model trained to analyze sentiment in ESG reports and sustainability disclosures.\n",
    "   - **DistilBERT for ESG Summarization**: A lightweight model for summarizing complex ESG-related documents, allowing users to quickly extract key information.\n",
    "\n",
    "2. **NLP Tasks for ESG Applications**:\n",
    "   Below are the key tasks that can be performed using pre-trained transformer models in the ESG context:\n",
    "\n",
    "   - **Text Classification**:\n",
    "     ESG reports and sustainability disclosures often contain a mix of environmental, social, and governance information. Transformer models can automatically classify text into relevant ESG categories, helping to streamline the analysis of these documents.\n",
    "\n",
    "     Example task: Categorizing a company's disclosure into 'Environmental,' 'Social,' or 'Governance' based on the content.\n",
    "\n",
    "   - **Summarization**:\n",
    "     ESG reports can be lengthy and detailed, making it difficult to extract key information. Summarization models built with transformers can condense these reports into concise summaries, highlighting the most important points related to sustainability initiatives.\n",
    "\n",
    "     Example task: Summarizing a company's annual sustainability report to focus on key environmental achievements.\n",
    "\n",
    "   - **Sentiment Analysis**:\n",
    "     Understanding public perception of a company's ESG practices is crucial for assessing reputational risk and brand value. Sentiment analysis models help gauge the overall sentiment in news articles, social media, or investor reports related to a company's ESG performance.\n",
    "\n",
    "     Example task: Analyzing public sentiment towards a company’s recent environmental policy changes by classifying the sentiment of related news articles.\n",
    "\n",
    "3. **Practical Applications of ESG NLP Models**:\n",
    "   Transformer models are already being applied in a variety of ESG use cases, such as:\n",
    "\n",
    "   - **ESG Risk Assessment**:\n",
    "     Using NLP to assess potential risks related to a company’s ESG practices. Models can analyze text from news outlets, regulatory bodies, and public statements to highlight risks related to environmental impact, social responsibility, or corporate governance issues.\n",
    "     \n",
    "   - **Regulatory Compliance**:\n",
    "     Automating the process of ensuring that companies adhere to regulatory requirements in ESG reporting. Transformer models can be used to detect inconsistencies, omissions, or deviations in compliance reports.\n",
    "\n",
    "   - **Investor Decision Support**:\n",
    "     Helping investors make data-driven decisions by analyzing ESG disclosures, identifying trends, and providing insights into a company’s sustainability initiatives. NLP models can enhance the efficiency of ESG data analysis, providing real-time insights on how companies perform in key ESG areas.\n",
    "\n",
    "4. **Advantages of Using Transformer-Based Models for ESG**:\n",
    "   - **Accuracy**: Transformer models like BERT, RoBERTa, and GPT-3 have set new benchmarks for NLP tasks due to their ability to understand the context of language better than traditional methods.\n",
    "   - **Scalability**: Pre-trained models allow for rapid deployment across large volumes of ESG data, enabling efficient scaling for enterprise-level use cases.\n",
    "   - **Fine-tuning Capabilities**: These models can be fine-tuned with ESG-specific datasets to improve performance on industry-relevant tasks, ensuring that they adapt well to the nuances of sustainability and corporate governance data.\n",
    "\n",
    "### **Conclusion**:\n",
    "Transformer-based NLP models provide a powerful toolset for tackling a wide range of ESG-related tasks. By leveraging pre-trained models from Hugging Face, professionals in sustainability, finance, and governance can automate and enhance the analysis of ESG data, making it easier to monitor compliance, assess risks, and drive informed decision-making in the realm of sustainability.\n",
    "\n",
    "In this review, we will explore various models and applications, highlighting the flexibility and utility of transformer models for ESG tasks. Whether for text classification, summarization, or sentiment analysis, these models play a crucial role in the evolution of ESG analysis.\n"
   ]
  },
  {
   "cell_type": "markdown",
   "id": "3e136809-cb3e-49a6-9aa6-4287806144dd",
   "metadata": {},
   "source": [
    "## Install and Import necessary modules"
   ]
  },
  {
   "cell_type": "code",
   "execution_count": 76,
   "id": "5118df32-efb4-4643-a697-4bad461e55e3",
   "metadata": {},
   "outputs": [],
   "source": [
    "from transformers import BertTokenizer, BertForSequenceClassification, pipeline\n",
    "from transformers import AutoTokenizer, AutoModelForMaskedLM, AutoModelForSequenceClassification\n",
    "\n",
    "import warnings\n",
    "warnings.filterwarnings(\"ignore\", category=FutureWarning)"
   ]
  },
  {
   "cell_type": "markdown",
   "id": "93c068dd-56c2-4dd0-9a33-7f248b72ba7f",
   "metadata": {},
   "source": [
    "## Define sample text(s) \n",
    "\n",
    "Define sample texts to use across different models and tasks."
   ]
  },
  {
   "cell_type": "code",
   "execution_count": 68,
   "id": "a060f868-d7ed-4b1b-89c8-69782b5ba5e6",
   "metadata": {},
   "outputs": [],
   "source": [
    "text1 = \"\"\"\n",
    "For 2002, our total net emissions were approximately 60 million metric tons of CO2 equivalents for all businesses and operations we have ﬁnancial interests in, based on its equity share in those businesses and operations.\n",
    "\"\"\"\n",
    "\n",
    "text2 = \"\"\"\n",
    "We use technology systems on our trucks to track driver behaviors, which has increased accountability among our managers and resulted in a reduction in speeding and safer fleet operations.\n",
    "\"\"\"\n",
    "\n",
    "text3 = \"\"\"\n",
    "Our Board is composed entirely of independent directors other than our chairman and CEO, and is diverse, with diversity reflecting gender, age, race, ethnicity, background, professional experience, and perspectives.\n",
    "\"\"\""
   ]
  },
  {
   "cell_type": "markdown",
   "id": "a071772e-3c7f-4378-8926-612f4195bf06",
   "metadata": {},
   "source": [
    "## MODEL: FinBERT-esg-9-categories\n",
    "\n",
    "ESG analysis can help investors determine a business' long-term sustainability and identify associated risks. **FinBERT-esg-9-categories** is a FinBERT model fine-tuned on about 14,000 manually annotated sentences from firms' ESG reports and annual reports.\n",
    "\n",
    "**finbert-esg-9-categories** classifies a text into nine fine-grained ESG topics: Climate Change, Natural Capital, Pollution & Waste, Human Capital, Product Liability, Community Relations, Corporate Governance, Business Ethics & Values, and Non-ESG. This model complements **finbert-esg** which classifies a text into four coarse-grained ESG themes (E, S, G or None).\n",
    "\n",
    "Detailed description of the nine fine-grained ESG topic definition, some examples for each topic, training sample, and the model’s performance can be found [here](https://www.allenhuang.org/uploads/2/6/5/5/26555246/esg_9-class_descriptions.pdf).\n",
    "\n",
    "- **Input**: A text.\n",
    "- **Output**: Climate Change, Natural Capital, Pollution & Waste, Human Capital, Product Liability, Community Relations, Corporate Governance, Business Ethics & Values, or Non-ESG.\n",
    "- HuggingFace description: [page link](https://huggingface.co/yiyanghkust/finbert-esg-9-categories)."
   ]
  },
  {
   "cell_type": "code",
   "execution_count": 33,
   "id": "dbf0f89b-3144-44e3-9ff0-bbb070fc4d1f",
   "metadata": {},
   "outputs": [],
   "source": [
    "model = BertForSequenceClassification.from_pretrained('yiyanghkust/finbert-esg-9-categories',num_labels=9)\n",
    "tokenizer = BertTokenizer.from_pretrained('yiyanghkust/finbert-esg-9-categories')\n",
    "nlp = pipeline(\"text-classification\", model=model, tokenizer=tokenizer)"
   ]
  },
  {
   "cell_type": "code",
   "execution_count": 35,
   "id": "85696faf-00ce-4cc6-93e7-5bb5b8a1fa89",
   "metadata": {},
   "outputs": [
    {
     "name": "stdout",
     "output_type": "stream",
     "text": [
      "[{'label': 'Climate Change', 'score': 0.9955655932426453}]\n"
     ]
    }
   ],
   "source": [
    "results = nlp(text1)\n",
    "print(results)"
   ]
  },
  {
   "cell_type": "code",
   "execution_count": 37,
   "id": "484bb926-4270-4b84-a376-737807939a9c",
   "metadata": {},
   "outputs": [
    {
     "name": "stdout",
     "output_type": "stream",
     "text": [
      "[{'label': 'Human Capital', 'score': 0.6967359185218811}]\n"
     ]
    }
   ],
   "source": [
    "results = nlp(text2)\n",
    "print(results)"
   ]
  },
  {
   "cell_type": "code",
   "execution_count": 39,
   "id": "d86150b0-52dd-4841-a445-3313141f4e18",
   "metadata": {},
   "outputs": [
    {
     "name": "stdout",
     "output_type": "stream",
     "text": [
      "[{'label': 'Corporate Governance', 'score': 0.9947186708450317}]\n"
     ]
    }
   ],
   "source": [
    "results = nlp(text3)\n",
    "print(results)"
   ]
  },
  {
   "cell_type": "markdown",
   "id": "ada086be-c6fd-4896-b9ad-976350380233",
   "metadata": {},
   "source": [
    "## MODEL: FinBERT-esg\n",
    "\n",
    "ESG analysis can help investors determine a business' long-term sustainability and identify associated risks. FinBERT-ESG is a FinBERT model fine-tuned on 2,000 manually annotated sentences from firms' ESG reports and annual reports. \n",
    "\n",
    "- **Input**: A financial text.\n",
    "- **Output**: Environmental, Social, Governance or None.\n",
    "- HuggingFace description: [page link](https://huggingface.co/yiyanghkust/finbert-esg)."
   ]
  },
  {
   "cell_type": "code",
   "execution_count": 43,
   "id": "db8c48d1-f4de-4cdc-bea5-82cc08d0de18",
   "metadata": {},
   "outputs": [
    {
     "data": {
      "application/vnd.jupyter.widget-view+json": {
       "model_id": "cd81d227bdf84a7a837e82fe3bbe3f3e",
       "version_major": 2,
       "version_minor": 0
      },
      "text/plain": [
       "config.json:   0%|          | 0.00/781 [00:00<?, ?B/s]"
      ]
     },
     "metadata": {},
     "output_type": "display_data"
    },
    {
     "data": {
      "application/vnd.jupyter.widget-view+json": {
       "model_id": "d784d281541346d4b4c7d8b08f4168d0",
       "version_major": 2,
       "version_minor": 0
      },
      "text/plain": [
       "pytorch_model.bin:   0%|          | 0.00/439M [00:00<?, ?B/s]"
      ]
     },
     "metadata": {},
     "output_type": "display_data"
    },
    {
     "data": {
      "application/vnd.jupyter.widget-view+json": {
       "model_id": "a5b9fbb60a434d13a0318f70c36a4134",
       "version_major": 2,
       "version_minor": 0
      },
      "text/plain": [
       "vocab.txt:   0%|          | 0.00/226k [00:00<?, ?B/s]"
      ]
     },
     "metadata": {},
     "output_type": "display_data"
    }
   ],
   "source": [
    "model = BertForSequenceClassification.from_pretrained('yiyanghkust/finbert-esg',num_labels=4)\n",
    "tokenizer = BertTokenizer.from_pretrained('yiyanghkust/finbert-esg')\n",
    "nlp = pipeline(\"text-classification\", model=model, tokenizer=tokenizer)"
   ]
  },
  {
   "cell_type": "code",
   "execution_count": 47,
   "id": "c2e10251-0583-46d0-b736-91b6856af69e",
   "metadata": {},
   "outputs": [
    {
     "name": "stdout",
     "output_type": "stream",
     "text": [
      "[{'label': 'Environmental', 'score': 0.9887692928314209}]\n"
     ]
    }
   ],
   "source": [
    "results = nlp(text1)\n",
    "print(results)"
   ]
  },
  {
   "cell_type": "code",
   "execution_count": 49,
   "id": "d427c0a8-cff3-476d-90ca-cbaa30ba1e74",
   "metadata": {},
   "outputs": [
    {
     "name": "stdout",
     "output_type": "stream",
     "text": [
      "[{'label': 'Social', 'score': 0.9806464910507202}]\n"
     ]
    }
   ],
   "source": [
    "results = nlp(text2)\n",
    "print(results)"
   ]
  },
  {
   "cell_type": "code",
   "execution_count": 51,
   "id": "3bfb4add-ca43-41ef-a794-6434a984a49d",
   "metadata": {},
   "outputs": [
    {
     "name": "stdout",
     "output_type": "stream",
     "text": [
      "[{'label': 'Governance', 'score': 0.7229688167572021}]\n"
     ]
    }
   ],
   "source": [
    "results = nlp(text3)\n",
    "print(results)"
   ]
  },
  {
   "cell_type": "markdown",
   "id": "4a9b462a-88aa-4653-825b-0d1581b6c1cf",
   "metadata": {},
   "source": [
    "## MODEL: EnvRoBERTa-environmental \n",
    "\n",
    "Based on [this paper](https://doi.org/10.1016/j.frl.2024.104979), this is the **EnvRoBERTa-environmental** language model. A language model that is trained to better classify environmental texts in the ESG domain. \n",
    "\n",
    "Using the **EnvRoBERTa-base** model as a starting point, the **EnvRoBERTa-environmental** Language Model is additionally fine-trained on a 2k environmental dataset to detect environmental text samples.\n",
    "\n",
    "- **Input**: A text.\n",
    "- **Output**: Environmental, or None.\n",
    "- HuggingFace description: [page link](https://huggingface.co/ESGBERT/EnvRoBERTa-environmental).\n",
    "\n",
    "Similar models for the Social and Governance are also available [here](https://huggingface.co/ESGBERT). Simply change the model and tokenizer names to one of the following:\n",
    "\n",
    "- ESGBERT/EnvRoBERTa-environmental\n",
    "- ESGBERT/SocRoBERTa-social\n",
    "- ESGBERT/GovRoBERTa-governance"
   ]
  },
  {
   "cell_type": "code",
   "execution_count": 78,
   "id": "ee6f1260-8880-4fc8-9575-2455b2c16ea6",
   "metadata": {},
   "outputs": [
    {
     "data": {
      "application/vnd.jupyter.widget-view+json": {
       "model_id": "cb2b8391f0d846e0a433017f7992d854",
       "version_major": 2,
       "version_minor": 0
      },
      "text/plain": [
       "config.json:   0%|          | 0.00/946 [00:00<?, ?B/s]"
      ]
     },
     "metadata": {},
     "output_type": "display_data"
    },
    {
     "data": {
      "application/vnd.jupyter.widget-view+json": {
       "model_id": "01b4431ed9d5472d931c1e7988fbc78c",
       "version_major": 2,
       "version_minor": 0
      },
      "text/plain": [
       "pytorch_model.bin:   0%|          | 0.00/499M [00:00<?, ?B/s]"
      ]
     },
     "metadata": {},
     "output_type": "display_data"
    },
    {
     "data": {
      "application/vnd.jupyter.widget-view+json": {
       "model_id": "0630485623fa47beb61939dcc74cc947",
       "version_major": 2,
       "version_minor": 0
      },
      "text/plain": [
       "tokenizer_config.json:   0%|          | 0.00/351 [00:00<?, ?B/s]"
      ]
     },
     "metadata": {},
     "output_type": "display_data"
    },
    {
     "data": {
      "application/vnd.jupyter.widget-view+json": {
       "model_id": "a32309531af6447bad1024a2fcdd2266",
       "version_major": 2,
       "version_minor": 0
      },
      "text/plain": [
       "vocab.json:   0%|          | 0.00/798k [00:00<?, ?B/s]"
      ]
     },
     "metadata": {},
     "output_type": "display_data"
    },
    {
     "data": {
      "application/vnd.jupyter.widget-view+json": {
       "model_id": "b31b0447770042dca395696fad30b6bb",
       "version_major": 2,
       "version_minor": 0
      },
      "text/plain": [
       "merges.txt:   0%|          | 0.00/456k [00:00<?, ?B/s]"
      ]
     },
     "metadata": {},
     "output_type": "display_data"
    },
    {
     "data": {
      "application/vnd.jupyter.widget-view+json": {
       "model_id": "a18d63fa806c4cc1bd39e73d389f6187",
       "version_major": 2,
       "version_minor": 0
      },
      "text/plain": [
       "tokenizer.json:   0%|          | 0.00/2.11M [00:00<?, ?B/s]"
      ]
     },
     "metadata": {},
     "output_type": "display_data"
    },
    {
     "data": {
      "application/vnd.jupyter.widget-view+json": {
       "model_id": "774a2e108c394a85b443f6c164f46b06",
       "version_major": 2,
       "version_minor": 0
      },
      "text/plain": [
       "special_tokens_map.json:   0%|          | 0.00/280 [00:00<?, ?B/s]"
      ]
     },
     "metadata": {},
     "output_type": "display_data"
    }
   ],
   "source": [
    "tokenizer_name = \"ESGBERT/EnvRoBERTa-environmental\"\n",
    "model_name = \"ESGBERT/EnvRoBERTa-environmental\"\n",
    "\n",
    "model = AutoModelForSequenceClassification.from_pretrained(model_name)\n",
    "tokenizer = AutoTokenizer.from_pretrained(tokenizer_name, max_len=512)\n",
    "nlp = pipeline(\"text-classification\", model=model, tokenizer=tokenizer) # set device=0 to use GPU"
   ]
  },
  {
   "cell_type": "code",
   "execution_count": 80,
   "id": "c1c48f13-f9e4-481c-9313-f08097060cbc",
   "metadata": {},
   "outputs": [
    {
     "name": "stdout",
     "output_type": "stream",
     "text": [
      "[{'label': 'environmental', 'score': 0.9925256967544556}]\n"
     ]
    }
   ],
   "source": [
    "results = nlp(text1)\n",
    "print(results)"
   ]
  },
  {
   "cell_type": "code",
   "execution_count": 82,
   "id": "eb6dcd93-1457-4c9b-aa30-1d65ad0c665a",
   "metadata": {},
   "outputs": [
    {
     "name": "stdout",
     "output_type": "stream",
     "text": [
      "[{'label': 'none', 'score': 0.8960307836532593}]\n"
     ]
    }
   ],
   "source": [
    "results = nlp(text2)\n",
    "print(results)"
   ]
  },
  {
   "cell_type": "code",
   "execution_count": 84,
   "id": "d70e4ef8-9188-46df-a775-4954a3489167",
   "metadata": {},
   "outputs": [
    {
     "name": "stdout",
     "output_type": "stream",
     "text": [
      "[{'label': 'none', 'score': 0.9951488375663757}]\n"
     ]
    }
   ],
   "source": [
    "results = nlp(text3)\n",
    "print(results)"
   ]
  },
  {
   "cell_type": "code",
   "execution_count": null,
   "id": "18b3426e-ca6a-4b23-afa7-47ffd34c0941",
   "metadata": {},
   "outputs": [],
   "source": []
  },
  {
   "cell_type": "markdown",
   "id": "486cffd7-40b1-4ceb-83ad-26d2262bd45f",
   "metadata": {},
   "source": [
    "# For further exploration:\n",
    "\n",
    "- **ESGify** on https://huggingface.co/ai-lab/ESGify\n",
    "- **Financial-RoBERTa** on https://huggingface.co/soleimanian/financial-roberta-large-sentiment\n",
    "- **AdaptationBERT** on https://huggingface.co/ClimateLouie/AdaptationBERT\n",
    "- **distilBERT_ESG** on https://huggingface.co/descartes100/distilBERT_ESG"
   ]
  },
  {
   "cell_type": "code",
   "execution_count": null,
   "id": "eef6ed7f-8f0a-4541-a3d5-57fad359526f",
   "metadata": {},
   "outputs": [],
   "source": []
  }
 ],
 "metadata": {
  "kernelspec": {
   "display_name": "Python 3 (ipykernel)",
   "language": "python",
   "name": "python3"
  },
  "language_info": {
   "codemirror_mode": {
    "name": "ipython",
    "version": 3
   },
   "file_extension": ".py",
   "mimetype": "text/x-python",
   "name": "python",
   "nbconvert_exporter": "python",
   "pygments_lexer": "ipython3",
   "version": "3.12.4"
  }
 },
 "nbformat": 4,
 "nbformat_minor": 5
}
